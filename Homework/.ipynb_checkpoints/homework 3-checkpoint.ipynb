{
 "cells": [
  {
   "cell_type": "markdown",
   "metadata": {},
   "source": [
    "# Chapter 3 Classification\n",
    "\n",
    "There are two most common tasks in **supervised machine learning**: **regression** (predicting values) and **classification** (predicting classes). In this chapter, we focuse on building classification systems."
   ]
  },
  {
   "cell_type": "markdown",
   "metadata": {},
   "source": [
    "## Data Preparation\n",
    "\n",
    "We will use the MNIST dataset of handwritten images as an example.\n",
    "\n",
    "- Load MNIST dataset using sklearn.datasets.fetch_mldata() or from http://yann.lecun.com/exdb/mnist/ with python-mnist package.\n",
    "- Construct training set and test set. We will use training set to build the classifier, and use test set to evaluate its performance.\n",
    "- Explore the dataset (find size of dataset, show a random image, show multiple images"
   ]
  },
  {
   "cell_type": "code",
   "execution_count": 1,
   "metadata": {},
   "outputs": [],
   "source": [
    "import numpy as np\n",
    "import pandas as pd\n",
    "import os\n",
    "import matplotlib\n",
    "import matplotlib.pyplot as plt\n",
    "%matplotlib inline"
   ]
  },
  {
   "cell_type": "code",
   "execution_count": null,
   "metadata": {
    "scrolled": true
   },
   "outputs": [],
   "source": [
    "# Attempt 1: get MNIST from mldata.org\n",
    "from sklearn.datasets import fetch_mldata\n",
    "mnist = fetch_mldata('MNIST original')\n",
    "mnist"
   ]
  },
  {
   "cell_type": "code",
   "execution_count": null,
   "metadata": {},
   "outputs": [],
   "source": [
    "mnist['DESCR']"
   ]
  },
  {
   "cell_type": "code",
   "execution_count": null,
   "metadata": {},
   "outputs": [],
   "source": [
    "images = mnist['data']\n",
    "labels = mnist['target']"
   ]
  },
  {
   "cell_type": "code",
   "execution_count": null,
   "metadata": {
    "scrolled": true
   },
   "outputs": [],
   "source": [
    "images.shape"
   ]
  },
  {
   "cell_type": "code",
   "execution_count": null,
   "metadata": {},
   "outputs": [],
   "source": [
    "some_digit = images[12345]\n",
    "some_digit"
   ]
  },
  {
   "cell_type": "code",
   "execution_count": null,
   "metadata": {},
   "outputs": [],
   "source": [
    "# Use imshow() from matplotlib to show the image\n",
    "some_digit = images[54321]\n",
    "some_digit = some_digit.reshape([28, 28])\n",
    "plt.imshow(some_digit,\n",
    "           cmap=matplotlib.cm.binary)"
   ]
  },
  {
   "cell_type": "markdown",
   "metadata": {},
   "source": [
    "## Build a Binary Clasifier\n",
    "\n",
    "To start, we aim at building a binary classifier to identify if an handwritten digit is five.\n",
    "\n",
    "- Create the labels for binary classification (1 for five, and 0 for all other digits)\n",
    "- Apply the **k-nearest-neighbor algorithm** using sklearn.neighbors.KNeighborsClassifier.\n",
    "- Use its fit() method to train the model, use predict method to make predictions on given images."
   ]
  },
  {
   "cell_type": "code",
   "execution_count": null,
   "metadata": {},
   "outputs": [],
   "source": []
  },
  {
   "cell_type": "markdown",
   "metadata": {},
   "source": [
    "## K-Nearest Neighbor (KNN) Method\n",
    "\n",
    "- Used to classify new data points based on \"distance\" to known data\n",
    "- Find the K nearest neighbors, based on your distance metric\n",
    "- Let them all vote on the classification"
   ]
  },
  {
   "cell_type": "code",
   "execution_count": null,
   "metadata": {},
   "outputs": [],
   "source": []
  },
  {
   "cell_type": "markdown",
   "metadata": {},
   "source": [
    "## Evaluate Performance of a Classifier\n",
    "\n",
    "- Use sklearn.metrics.accuracy_score to calculate classification accuracy on the training set and on the test set.\n",
    "- Display the images where the model predicts wrong.\n",
    "- Use cross-validation to evaluate the performance of the model on various training and test sets.\n",
    "- Use confusion matrix to show the percentage of **false positives** and **true negatives**."
   ]
  },
  {
   "cell_type": "code",
   "execution_count": null,
   "metadata": {},
   "outputs": [],
   "source": []
  },
  {
   "cell_type": "markdown",
   "metadata": {},
   "source": [
    "#### Cross Validation\n",
    "- partition the dataset into k mutully-exclusive subsets\n",
    "- perform training on all but the 1st set, test the performance on the 1st set.\n",
    "- perform training on all but the 2nd set, test the performance on the 2nd set.\n",
    "- perform training on all but the 3rd set, test the performance on the 3rd set.\n",
    "- ....\n",
    "- perform training on all but the last set, test the performance on the last set.\n",
    "\n",
    "In this way, the model is tested on k different training sets. If all performances are acceptable, we should have high confidence on the model."
   ]
  },
  {
   "cell_type": "code",
   "execution_count": null,
   "metadata": {},
   "outputs": [],
   "source": []
  },
  {
   "cell_type": "markdown",
   "metadata": {},
   "source": [
    "### Confusion Matrix\n",
    "For each pair of class A and B:\n",
    "- count the number of instances of class A being classified as B\n",
    "- count the number of instances of class B being classified as A\n",
    "\n",
    "The numbers will form an $n\\times n$ matrix, where $n$ is the number of classes."
   ]
  },
  {
   "cell_type": "code",
   "execution_count": null,
   "metadata": {},
   "outputs": [],
   "source": []
  },
  {
   "cell_type": "markdown",
   "metadata": {},
   "source": [
    "**For binary classifiers**:\n",
    "confusion matrx = [[TN, FP], [FN, TP]]\n",
    "\n",
    "- TN: true negative\n",
    "- FP: false positive\n",
    "- FN: false negative\n",
    "- TP: true positive\n",
    "\n",
    "**Precision** = TP / (TP + FP)\n",
    "\n",
    "- What does precision represent?\n",
    "- Can a bad model have high precision?\n",
    "\n",
    "\n",
    "**Recall** = TP / (TP + FN)\n",
    "- What does recall represent?\n",
    "- Can a bad model have high recall?\n",
    "\n",
    "$F_1$ **score**\n",
    "\n",
    "$F_1 = \\frac{1}{\\frac{1}{precision} + \\frac{1}{recall}}$"
   ]
  },
  {
   "cell_type": "code",
   "execution_count": null,
   "metadata": {},
   "outputs": [],
   "source": []
  },
  {
   "cell_type": "markdown",
   "metadata": {},
   "source": [
    "## More Performance Measures\n",
    "\n",
    "- Precision-Recall tradeoff\n",
    "- Distribution of scores\n",
    "- ROC curve: False positive vs. True Positive\n",
    "- AUC (Area under curve)"
   ]
  },
  {
   "cell_type": "code",
   "execution_count": null,
   "metadata": {},
   "outputs": [],
   "source": []
  }
 ],
 "metadata": {
  "kernelspec": {
   "display_name": "Python 3",
   "language": "python",
   "name": "python3"
  },
  "language_info": {
   "codemirror_mode": {
    "name": "ipython",
    "version": 3
   },
   "file_extension": ".py",
   "mimetype": "text/x-python",
   "name": "python",
   "nbconvert_exporter": "python",
   "pygments_lexer": "ipython3",
   "version": "3.6.5"
  }
 },
 "nbformat": 4,
 "nbformat_minor": 2
}
