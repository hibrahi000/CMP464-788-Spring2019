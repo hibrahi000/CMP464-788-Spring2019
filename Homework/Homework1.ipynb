{
 "cells": [
  {
   "cell_type": "markdown",
   "metadata": {},
   "source": [
    "# CMP 464 & 788 Python Tutorial\n",
    "\n",
    "Python is today's most popular programming language. It is easy to learn, and has several very powerful scientific computing libraries, making it a powerful environment for scientific computing.\n",
    "\n",
    "This tutorial will cover basic features of python and two of its libraries: numpy and matplotlib. "
   ]
  },
  {
   "cell_type": "markdown",
   "metadata": {},
   "source": [
    "## Basic Python\n",
    "\n",
    "There are two types of Python, 2.x and 3.x. There are subtal differences between them, most notably the print statements. For this class we will use Python 3.x version. You can check your Python version at the command line by running \"python --version\"."
   ]
  },
  {
   "cell_type": "code",
   "execution_count": null,
   "metadata": {},
   "outputs": [],
   "source": [
    "# Check version using sys.version_info\n",
    "import sys\n",
    "sys.version_info"
   ]
  },
  {
   "cell_type": "markdown",
   "metadata": {},
   "source": [
    "### Basic data types\n",
    "\n",
    "#### Numbers\n",
    "\n",
    "Python is a dynamically typed language, and therefore the type of the variable is determined implicitly."
   ]
  },
  {
   "cell_type": "code",
   "execution_count": null,
   "metadata": {},
   "outputs": [],
   "source": [
    "a = 7\n",
    "# print the value of a\n",
    "print('a =', a)\n",
    "# print the type of a\n",
    "print('type of a:', type(a))"
   ]
  },
  {
   "cell_type": "code",
   "execution_count": null,
   "metadata": {},
   "outputs": [],
   "source": [
    "# addition a+1\n",
    "print('a + 1 =', a + 1)\n",
    "# Subtraction a-20\n",
    "print('a - 20 =', a - 20)\n",
    "# Multiplication a*2\n",
    "print('a * 2 =', a * 2)\n",
    "# Division a/5\n",
    "print('a / 5 =', a / 5)"
   ]
  },
  {
   "cell_type": "code",
   "execution_count": null,
   "metadata": {},
   "outputs": [],
   "source": [
    "# Floor division a//5\n",
    "print('a // 5 =', a // 5)\n",
    "# Modulus - remainder of the division a/5\n",
    "print('a % 5 =', a % 5)\n",
    "# Exponentiation a**2\n",
    "print('a ** 2 =', a ** 2)"
   ]
  },
  {
   "cell_type": "code",
   "execution_count": null,
   "metadata": {},
   "outputs": [],
   "source": [
    "# scientific notation:\n",
    "a = 1e9 # assign 1,000,000,000 to a\n",
    "b = 1e-9 # assign 0.000 000 001 to b\n",
    "print('a:', a)\n",
    "print('b:', b)"
   ]
  },
  {
   "cell_type": "code",
   "execution_count": null,
   "metadata": {},
   "outputs": [],
   "source": [
    "# multiple assignments\n",
    "a, b, c = 1, 2, 3\n",
    "print('a, b, c:', a, b, c)\n",
    "\n",
    "# swap two variables\n",
    "a, b = b, a\n",
    "print('a, b:', a, b)"
   ]
  },
  {
   "cell_type": "code",
   "execution_count": null,
   "metadata": {},
   "outputs": [],
   "source": [
    "# Change variable type\n",
    "num = 3.14\n",
    "print('num:', num)\n",
    "print('int(num):', int(num))\n",
    "print('str(num):', str(num))\n",
    "print('float(10):', float(10))"
   ]
  },
  {
   "cell_type": "code",
   "execution_count": null,
   "metadata": {},
   "outputs": [],
   "source": [
    "# Randomization\n",
    "import random\n",
    "print('a random integer between 1 and 10:', random.randint(1, 10))\n",
    "\n",
    "char_list = ['a', 'b', 'c']\n",
    "print(\"a random element from list ['a', 'b', 'c']:\", random.choice(char_list))\n",
    "random.shuffle(char_list)\n",
    "print(\"a random shuffle of list ['a', 'b', 'c']:\", char_list)"
   ]
  },
  {
   "cell_type": "markdown",
   "metadata": {},
   "source": [
    "#### Assignment operators"
   ]
  },
  {
   "cell_type": "code",
   "execution_count": null,
   "metadata": {},
   "outputs": [],
   "source": [
    "# add 1 to a\n",
    "a += 1\n",
    "print(a)\n",
    "# subtract 1 from 1\n",
    "a -= 1\n",
    "print(a)\n",
    "# multiply a by 2\n",
    "a *= 2\n",
    "print(a)\n",
    "# divide a by 2\n",
    "a /= 2\n",
    "print(a)\n",
    "# square of a\n",
    "a **= 2\n",
    "print(a)"
   ]
  },
  {
   "cell_type": "markdown",
   "metadata": {},
   "source": [
    "Note that unlike many languages, Python does not have unary increment (a++) or decrement (a--) operators."
   ]
  },
  {
   "cell_type": "code",
   "execution_count": null,
   "metadata": {},
   "outputs": [],
   "source": [
    "# This cell will give a error\n",
    "a++"
   ]
  },
  {
   "cell_type": "markdown",
   "metadata": {},
   "source": [
    "Python also supports complex numbers. The square root of -1 is represented as 1j."
   ]
  },
  {
   "cell_type": "code",
   "execution_count": null,
   "metadata": {},
   "outputs": [],
   "source": [
    "b = 1j\n",
    "print(\"b =\", b)\n",
    "print(\"b ** 2 =\", b ** 2)"
   ]
  },
  {
   "cell_type": "markdown",
   "metadata": {},
   "source": [
    "#### Logical operators\n",
    "\n",
    "Logical operators are and, or, not\n",
    "\n"
   ]
  },
  {
   "cell_type": "code",
   "execution_count": null,
   "metadata": {},
   "outputs": [],
   "source": [
    "t, f = True, False\n",
    "# and: True if both the operands are true\n",
    "print(\"t and f:\", t and f)\n",
    "# or: True if either of the operands is true\n",
    "print(\"t or f:\", t or f)\n",
    "# not True if the operand is false\n",
    "print(\"not t:\", not t)\n",
    "print(\"not f:\", not f)"
   ]
  },
  {
   "cell_type": "code",
   "execution_count": null,
   "metadata": {},
   "outputs": [],
   "source": [
    "# Math functions\n",
    "from math import sqrt, pi, sin, log\n",
    "print('sqrt(2):', sqrt(2))\n",
    "print('pi:', pi)\n",
    "print('sin(pi / 2):', sin(pi / 2))\n",
    "print('log(2):', log(2))"
   ]
  },
  {
   "cell_type": "markdown",
   "metadata": {},
   "source": [
    "#### Comparison operators\n",
    "\n",
    "Comparison operators are used to compare values. It either returns True or False according to the condition.\n",
    "\n",
    "\\> : greater than\n",
    "\n",
    "< : less than\n",
    "\n",
    "==: equal to\n",
    "\n",
    "!=: not equal to\n",
    "\n",
    "\\>=: greater than or equal to\n",
    "\n",
    "<=: less than or equal to"
   ]
  },
  {
   "cell_type": "markdown",
   "metadata": {},
   "source": [
    "#### Strings"
   ]
  },
  {
   "cell_type": "code",
   "execution_count": null,
   "metadata": {},
   "outputs": [],
   "source": [
    "# String literals can use either single quotes or double quotes.\n",
    "str1 = 'Hello'\n",
    "str2 = \"world\"\n",
    "print(str1, str2)"
   ]
  },
  {
   "cell_type": "code",
   "execution_count": null,
   "metadata": {},
   "outputs": [],
   "source": [
    "# length of a string: len()\n",
    "print('length of str1:', len(str1))\n",
    "# string concatenation: +\n",
    "print('str1 + str2:', str1 + str2)\n",
    "# string formatting:\n",
    "str4 = 'a = %d \\t sqrt(a) = %.2f' % (a, sqrt(a))\n",
    "print(str4)"
   ]
  },
  {
   "cell_type": "code",
   "execution_count": null,
   "metadata": {},
   "outputs": [],
   "source": [
    "# Useful string methods:\n",
    "str = 'thursday'\n",
    "# capitalize a string\n",
    "print(str.capitalize())\n",
    "# convert to uppercase\n",
    "print(str.upper())\n",
    "# right-justify a string\n",
    "print(str.rjust(20))\n",
    "# center a string\n",
    "print(str.center(20))\n",
    "# replace all instances of one substring with another\n",
    "print(str.replace('d', 'D'))\n",
    "# strip leading and trailing whitespace\n",
    "print('      thursday      '.strip())"
   ]
  },
  {
   "cell_type": "markdown",
   "metadata": {},
   "source": [
    "### Containers: lists, dictionaries, sets, and tuples\n",
    "\n",
    "#### Lists\n",
    "\n",
    "A list is the Python equivalent of an array, but it is resizeable and can contain elements of different types."
   ]
  },
  {
   "cell_type": "code",
   "execution_count": null,
   "metadata": {},
   "outputs": [],
   "source": [
    "# Define xs to be a list containing 0 to 5\n",
    "xs = [0, 1, 2, 3, 4, 5]\n",
    "print('xs:', xs)\n",
    "# OR:\n",
    "xs = range(0, 6)\n",
    "print('xs:', xs)\n",
    "\n",
    "# print the second element of xs\n",
    "print('xs[1] is the second element:', xs[1])\n",
    "# negative indices count from the end of the list\n",
    "print('xs[-2] is the second-to-last element:', xs[-2])\n",
    "\n",
    "# EXERCISE: use negative index to print the last element of the list\n"
   ]
  },
  {
   "cell_type": "code",
   "execution_count": null,
   "metadata": {},
   "outputs": [],
   "source": [
    "# append() and pop()\n",
    "xs = [0, 1, 2, 3, 4, 5]\n",
    "xs.append('hello')\n",
    "xs.append(12.34)\n",
    "print(\"xs:\", xs)\n",
    "x = xs.pop()\n",
    "y = xs.pop()\n",
    "print(\"x:\", x)\n",
    "print(\"y:\", y)\n",
    "print(\"xs:\", xs)"
   ]
  },
  {
   "cell_type": "markdown",
   "metadata": {},
   "source": [
    "#### slicing\n",
    "\n",
    "Python provides concise syntax to access sublists; this is known as slicing."
   ]
  },
  {
   "cell_type": "code",
   "execution_count": null,
   "metadata": {},
   "outputs": [],
   "source": [
    "print(\"xs:\", xs)\n",
    "# get a slice from the first index to the second index (exclusive)\n",
    "print('xs[1:4]:', xs[1:4])\n",
    "# get a slice from an index to the end\n",
    "print('xs[3:]:', xs[3:])\n",
    "# get a slice from the start to an index\n",
    "print('xs[:3]:', xs[:3])\n",
    "# use negative index\n",
    "print('xs[2:-1]:', xs[2:-1])\n",
    "# assign a new sublist to a slice\n",
    "xs[2:4] = [10, 20]\n",
    "print(\"xs:\", xs)"
   ]
  },
  {
   "cell_type": "markdown",
   "metadata": {},
   "source": [
    "#### Looping through a list"
   ]
  },
  {
   "cell_type": "code",
   "execution_count": null,
   "metadata": {},
   "outputs": [],
   "source": [
    "names = ['Alice', 'Bob', 'Cyd']\n",
    "for name in names:\n",
    "    print(name)\n",
    "for idx, name in enumerate(names):\n",
    "    print('%d: %s' % (idx, name))"
   ]
  },
  {
   "cell_type": "markdown",
   "metadata": {},
   "source": [
    "#### List comprehensions\n",
    "\n",
    "When programming, we frequently want to transform one type of data into another. This can be done through list comprehensions"
   ]
  },
  {
   "cell_type": "code",
   "execution_count": null,
   "metadata": {},
   "outputs": [],
   "source": [
    "# create a new list with names from names in uppercase\n",
    "names = ['Alice', 'Bob', 'Cyd']\n",
    "cap_names = [name.upper() for name in names]\n",
    "print(\"cap_names:\", cap_names)\n",
    "# create a new list with names from cap_names of length no greater than 3\n",
    "cap_names2 = [name for name in cap_names if len(name) <= 3]\n",
    "print(\"cap_names2:\", cap_names2)"
   ]
  },
  {
   "cell_type": "markdown",
   "metadata": {},
   "source": [
    "#### Dictionaries\n",
    "\n",
    "A dictionary stores (key,value) pairs."
   ]
  },
  {
   "cell_type": "code",
   "execution_count": null,
   "metadata": {},
   "outputs": [],
   "source": [
    "d = {\"Alice\": 'A',\n",
    "     \"Bob\": 'B',\n",
    "     \"Cyd\": 'C'}\n",
    "# check if an element is in a dictionary\n",
    "print(\"Is Alice in the dictionary?\", 'Alice' in d)\n",
    "# Get an entry from a dictionay\n",
    "print(\"grade for Bob:\", d['Bob'])"
   ]
  },
  {
   "cell_type": "markdown",
   "metadata": {},
   "source": [
    "#### Sets\n",
    "\n",
    "A set is an unordered collection of distinct elements"
   ]
  },
  {
   "cell_type": "code",
   "execution_count": null,
   "metadata": {},
   "outputs": [],
   "source": [
    "from math import sqrt\n",
    "s = {int(sqrt(x)) for x in range(30)}\n",
    "print('s:', s)"
   ]
  },
  {
   "cell_type": "markdown",
   "metadata": {},
   "source": [
    "#### Tuples\n",
    "A tuple is an ordered list of values. It can be used as keys in dictionaries and as elements of sets, while lists cannot."
   ]
  },
  {
   "cell_type": "code",
   "execution_count": null,
   "metadata": {},
   "outputs": [],
   "source": [
    "d = {(x, x+1): x for x in range(10)}\n",
    "print('d[(5,6)]:', d[(5,6)])"
   ]
  },
  {
   "cell_type": "markdown",
   "metadata": {},
   "source": [
    "### Functions\n",
    "Python functions are defined using the def keyword. "
   ]
  },
  {
   "cell_type": "code",
   "execution_count": null,
   "metadata": {},
   "outputs": [],
   "source": [
    "# Write a sign() function that returns 'positive', 'negative', or 'zero', according to the \n",
    "# sign of the input argument\n",
    "def sign(x):\n",
    "    if x > 0:\n",
    "        return 'positive'\n",
    "    elif x < 0:\n",
    "        return 'negative'\n",
    "    else:\n",
    "        return 'zero'\n",
    "    \n",
    "    \n",
    "for x in [-1, 0, 1]:\n",
    "    print(sign(x))"
   ]
  },
  {
   "cell_type": "markdown",
   "metadata": {},
   "source": [
    "Python functions may take optional arguments:"
   ]
  },
  {
   "cell_type": "code",
   "execution_count": null,
   "metadata": {},
   "outputs": [],
   "source": [
    "def hello(name, loud=False):\n",
    "    if loud:\n",
    "        print('HELLO, %s!' % name.upper())\n",
    "    else: \n",
    "        print('Hello, %s!' % name)\n",
    "\n",
    "hello('Bob')\n",
    "hello('Fred', loud=True)"
   ]
  },
  {
   "cell_type": "markdown",
   "metadata": {},
   "source": [
    "### Classes"
   ]
  },
  {
   "cell_type": "code",
   "execution_count": null,
   "metadata": {},
   "outputs": [],
   "source": [
    "# A class Student with attributes name and grade, a constructor __init__, \n",
    "# and method print_info:\n",
    "class Student:\n",
    "    \n",
    "    def __init__(self, name, grade):\n",
    "        self.name = name\n",
    "        self.grade = grade\n",
    "        \n",
    "    def print_info(self):\n",
    "        print('Name: %-10s | Grade: %s' % (self.name, self.grade))\n",
    "        \n",
    "Fred = Student('Fred', 'F')\n",
    "Fred.print_info()"
   ]
  },
  {
   "cell_type": "markdown",
   "metadata": {},
   "source": [
    "## Numpy\n",
    "\n",
    "Numpy is the core library for scientific computing in Python. It provides a high-performance multidimensional array object, and tools for working with these arrays. "
   ]
  },
  {
   "cell_type": "code",
   "execution_count": null,
   "metadata": {},
   "outputs": [],
   "source": [
    "# import the numpy library\n",
    "import numpy as np\n",
    "\n",
    "# define an 1D array\n",
    "ary = np.array([1, 2, 3])\n",
    "print('ary:', ary)\n",
    "# define a 2D array\n",
    "ary2 = np.array([\n",
    "    [1, 2, 3],\n",
    "    [4, 5, 6]\n",
    "])\n",
    "print('ary2:')\n",
    "print(ary2)"
   ]
  },
  {
   "cell_type": "code",
   "execution_count": null,
   "metadata": {},
   "outputs": [],
   "source": [
    "print('ary2.shape:', ary2.shape)"
   ]
  },
  {
   "cell_type": "code",
   "execution_count": null,
   "metadata": {},
   "outputs": [],
   "source": [
    "# create an array of all zeros\n",
    "print(np.zeros((2, 3)))\n",
    "# create an array of all ones\n",
    "print(np.ones((2, 3)))\n",
    "# create an identity matrix\n",
    "print(np.eye(3))\n",
    "# create a Gaussian random matrix\n",
    "print(np.random.random((2, 2)))"
   ]
  },
  {
   "cell_type": "code",
   "execution_count": null,
   "metadata": {},
   "outputs": [],
   "source": [
    "# Array math:\n",
    "x = np.array([[1,2], [3,4]])\n",
    "y = np.array([[5,6], [7,8]])\n",
    "print('x:')\n",
    "print(x)\n",
    "print('y:')\n",
    "print(y)\n",
    "# elementwise addition of x and y\n",
    "print('x + y:')\n",
    "print(x + y)\n",
    "# subtract all element of x by 1\n",
    "print('x - 1:')\n",
    "print(x - 1)\n",
    "# multiply x and y elementwise\n",
    "print('x * y multiplies elements pairwise:')\n",
    "print(x * y)\n",
    "# multiply x and y as matrices\n",
    "print('x.dot(y) multiplies x and y as matrices:')\n",
    "print(x.dot(y))\n",
    "# transpose of x\n",
    "print('x.T transposes x:')\n",
    "print(x.T)\n",
    "# matrix inverse of x\n",
    "print('np.linalg.inv(x) computes the inverse of x:')\n",
    "inv_x = np.linalg.inv(x)\n",
    "print(inv_x)\n",
    "print('x.dot(inv_x):')\n",
    "print(x.dot(inv_x))"
   ]
  },
  {
   "cell_type": "markdown",
   "metadata": {},
   "source": [
    "### Matplotlib\n",
    "\n",
    "Matplotlib is a plotting library. We will mainly use matplotlib.pyplot to plot graphs"
   ]
  },
  {
   "cell_type": "code",
   "execution_count": null,
   "metadata": {},
   "outputs": [],
   "source": [
    "# import pyplot\n",
    "import matplotlib.pyplot as plt\n",
    "# include the following \"magic command\" will allow graphs shown in the notebook\n",
    "%matplotlib inline\n",
    "\n",
    "# Plot the graph of y=sin(x)\n",
    "x = np.arange(0, 3 * np.pi, 0.1)\n",
    "y = np.sin(x)\n",
    "plt.plot(x, y)"
   ]
  },
  {
   "cell_type": "markdown",
   "metadata": {
    "scrolled": true
   },
   "source": [
    "# Exercise 1\n",
    "\n",
    "In the next cell, plot the graph of y = (x+1)^2 over interval [-2, 2]"
   ]
  },
  {
   "cell_type": "code",
   "execution_count": 69,
   "metadata": {},
   "outputs": [
    {
     "data": {
      "text/plain": [
       "<matplotlib.legend.Legend at 0x11bde9780>"
      ]
     },
     "execution_count": 69,
     "metadata": {},
     "output_type": "execute_result"
    },
    {
     "data": {
      "image/png": "[encoded data removed]",
      "text/plain": [
       "<Figure size 432x288 with 1 Axes>"
      ]
     },
     "metadata": {},
     "output_type": "display_data"
    }
   ],
   "source": [
    "import numpy as np\n",
    "import matplotlib.pyplot as plt\n",
    "x= np.arange(-2,2,0.005)\n",
    "y = (x +1) **2 \n",
    "\n",
    "plt.plot(x,y)\n",
    "plt.xlabel('x')\n",
    "plt.ylabel('y')\n",
    "plt.title('Excersise 1')\n",
    "plt.legend(['(x+1)^2'])"
   ]
  },
  {
   "cell_type": "code",
   "execution_count": 68,
   "metadata": {},
   "outputs": [
    {
     "data": {
      "text/plain": [
       "<matplotlib.legend.Legend at 0x11c030828>"
      ]
     },
     "execution_count": 68,
     "metadata": {},
     "output_type": "execute_result"
    },
    {
     "data": {
      "image/png": "[encoded data removed]",
      "text/plain": [
       "<Figure size 432x288 with 1 Axes>"
      ]
     },
     "metadata": {},
     "output_type": "display_data"
    }
   ],
   "source": [
    "# multiple lines, title, legend, and axis lables\n",
    "x = np.arange(-2, 2, 0.001)\n",
    "y1 = x + 2\n",
    "y2 = 4 - 2 * x\n",
    "\n",
    "plt.plot(x, y1)\n",
    "plt.plot(x, y2)\n",
    "plt.xlabel('x')\n",
    "plt.ylabel('y')\n",
    "plt.title('Two lines')\n",
    "plt.legend(['x+2', '4-2x'])\n"
   ]
  },
  {
   "cell_type": "markdown",
   "metadata": {
    "scrolled": true
   },
   "source": [
    "# Exercise 2:\n",
    "Plot the graph of sin(x) and cos(x) over interval [0, 3pi]. Add title, legend, and axis\n",
    "labels to the graph."
   ]
  },
  {
   "cell_type": "code",
   "execution_count": 67,
   "metadata": {},
   "outputs": [
    {
     "data": {
      "text/plain": [
       "<matplotlib.legend.Legend at 0x11be4ecc0>"
      ]
     },
     "execution_count": 67,
     "metadata": {},
     "output_type": "execute_result"
    },
    {
     "data": {
      "image/png": "[encoded data removed]",
      "text/plain": [
       "<Figure size 432x288 with 1 Axes>"
      ]
     },
     "metadata": {},
     "output_type": "display_data"
    }
   ],
   "source": [
    "import numpy as np\n",
    "import matplotlib.pyplot as plt\n",
    "from math import sin, cos, pi\n",
    "import math\n",
    "x = np.arange(0, 3*np.pi, .0001)\n",
    "y1 = np.sin(x)\n",
    "y2 = np.cos(x)\n",
    "\n",
    "plt.plot(x,y1)\n",
    "plt.plot(x,y2)\n",
    "plt.xlabel('X axis')\n",
    "plt.ylabel('Y axis')\n",
    "plt.title('sin and cos graph')\n",
    "plt.legend(['sin(x), cos(x)'])\n"
   ]
  },
  {
   "cell_type": "code",
   "execution_count": null,
   "metadata": {},
   "outputs": [],
   "source": []
  }
 ],
 "metadata": {
  "kernelspec": {
   "display_name": "Python 3",
   "language": "python",
   "name": "python3"
  },
  "language_info": {
   "codemirror_mode": {
    "name": "ipython",
    "version": 3
   },
   "file_extension": ".py",
   "mimetype": "text/x-python",
   "name": "python",
   "nbconvert_exporter": "python",
   "pygments_lexer": "ipython3",
   "version": "3.6.5"
  }
 },
 "nbformat": 4,
 "nbformat_minor": 2
}
